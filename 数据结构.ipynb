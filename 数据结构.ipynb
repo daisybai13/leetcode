{
 "cells": [
  {
   "cell_type": "markdown",
   "metadata": {
    "collapsed": true,
    "pycharm": {
     "name": "#%% md\n"
    }
   },
   "source": [
    "# 剑指 Offer 05. 替换空格\n",
    "请实现一个函数，把字符串 s 中的每个空格替换成\"%20\"。\n",
    "\n",
    "示例 1：\n",
    "输入：s = \"We are happy.\"\n",
    "输出：\"We%20are%20happy.\"\n",
    "\n",
    "限制：0 <= s 的长度 <= 10000"
   ]
  },
  {
   "cell_type": "code",
   "execution_count": 23,
   "outputs": [
    {
     "name": "stdout",
     "output_type": "stream",
     "text": [
      "We%20are%20Happy\n"
     ]
    }
   ],
   "source": [
    "# 遍历替换\n",
    "import collections\n",
    "\n",
    "\n",
    "def replace(s):\n",
    "    return ''.join(['%20' if val == ' ' else val for val in s])\n",
    "\n",
    "\n",
    "s = 'We are Happy'\n",
    "print(replace(s))"
   ],
   "metadata": {
    "collapsed": false,
    "pycharm": {
     "name": "#%%\n"
    }
   }
  },
  {
   "cell_type": "code",
   "execution_count": 24,
   "outputs": [
    {
     "name": "stdout",
     "output_type": "stream",
     "text": [
      "We%20are%20Happy\n"
     ]
    }
   ],
   "source": [
    "# 在原来的数组中进行扩充\n",
    "def replace(s):\n",
    "    res = list()\n",
    "    count = 0\n",
    "    for c in s:\n",
    "        res.append(c)\n",
    "        if c == ' ':\n",
    "            count += 1\n",
    "    # 在原来的基础上需要增加2*count个新的空字符串\n",
    "    s_exp = res + [\" \"] * 2 * count\n",
    "    i, j = len(res) - 1, len(s_exp) - 1\n",
    "    while i < j:\n",
    "        if s_exp[i] != ' ':\n",
    "            s_exp[j] = s_exp[i]\n",
    "            i -= 1\n",
    "            j -= 1\n",
    "        else:\n",
    "            s_exp[j - 2:j + 1] = '%20'\n",
    "            i -= 1\n",
    "            j -= 3\n",
    "    return ''.join(s_exp)\n",
    "\n",
    "\n",
    "print(replace(s))"
   ],
   "metadata": {
    "collapsed": false,
    "pycharm": {
     "name": "#%%\n"
    }
   }
  },
  {
   "cell_type": "markdown",
   "source": [
    "# 剑指 Offer 06. 从尾到头打印链表\n",
    "输入一个链表的头节点，从尾到头反过来返回每个节点的值（用数组返回）。\n",
    "\n",
    "示例 1：\n",
    "输入：head = [1,3,2]\n",
    "输出：[2,3,1]\n",
    "\n",
    "限制：\n",
    "0 <= 链表长度 <= 10000"
   ],
   "metadata": {
    "collapsed": false,
    "pycharm": {
     "name": "#%% md\n"
    }
   }
  },
  {
   "cell_type": "code",
   "execution_count": 31,
   "outputs": [
    {
     "name": "stdout",
     "output_type": "stream",
     "text": [
      "[2, 3, 1]\n"
     ]
    }
   ],
   "source": [
    "class ListNode(object):\n",
    "    def __init__(self, x):\n",
    "        self.val = x\n",
    "        self.next = None\n",
    "\n",
    "    def reversePrint(self, head):\n",
    "        \"\"\"\n",
    "        借助栈来实现逆序\n",
    "        :param head:\n",
    "        :return:\n",
    "        \"\"\"\n",
    "        stack = []\n",
    "        while head:\n",
    "            stack.append(head.val)\n",
    "            head = head.next\n",
    "        return stack[::-1]\n",
    "\n",
    "\n",
    "head = ListNode(1)\n",
    "n1 = ListNode(2)\n",
    "n2 = ListNode(3)\n",
    "\n",
    "head.next = n2\n",
    "n2.next = n1\n",
    "print(head.reversePrint(head))"
   ],
   "metadata": {
    "collapsed": false,
    "pycharm": {
     "name": "#%%\n"
    }
   }
  },
  {
   "cell_type": "code",
   "execution_count": 32,
   "outputs": [
    {
     "name": "stdout",
     "output_type": "stream",
     "text": [
      "[2, 3, 1]\n"
     ]
    }
   ],
   "source": [
    "class ListNode(object):\n",
    "    def __init__(self, x):\n",
    "        self.val = x\n",
    "        self.next = None\n",
    "\n",
    "    def reversePrint(self, head):\n",
    "        \"\"\"\n",
    "        利用递归/回溯的方法\n",
    "        :return:\n",
    "        \"\"\"\n",
    "        return self.reversePrint(head.next) + [head.val] if head else []\n",
    "\n",
    "\n",
    "head = ListNode(1)\n",
    "n1 = ListNode(2)\n",
    "n2 = ListNode(3)\n",
    "\n",
    "head.next = n2\n",
    "n2.next = n1\n",
    "print(head.reversePrint(head))"
   ],
   "metadata": {
    "collapsed": false,
    "pycharm": {
     "name": "#%%\n"
    }
   }
  },
  {
   "cell_type": "markdown",
   "source": [
    " # 剑指 Offer 09. 用两个栈实现队列\n",
    "\n",
    "用两个栈实现一个队列。队列的声明如下，请实现它的两个函数 appendTail 和 deleteHead ，分别完成在队列尾部插入整数和在队列头部删除整数的功能。(若队列中没有元素，deleteHead 操作返回 -1 )\n",
    "\n",
    "示例 1：\n",
    "输入：\n",
    "[\"CQueue\",\"appendTail\",\"deleteHead\",\"deleteHead\"]\n",
    "[[],[3],[],[]]\n",
    "输出：[null,null,3,-1]\n",
    "\n",
    "示例 2：\n",
    "输入：\n",
    "[\"CQueue\",\"deleteHead\",\"appendTail\",\"appendTail\",\"deleteHead\",\"deleteHead\"]\n",
    "[[],[],[5],[2],[],[]]\n",
    "输出：[null,-1,null,null,5,2]"
   ],
   "metadata": {
    "collapsed": false,
    "pycharm": {
     "name": "#%% md\n"
    }
   }
  },
  {
   "cell_type": "code",
   "execution_count": 34,
   "outputs": [
    {
     "data": {
      "text/plain": "-1"
     },
     "execution_count": 34,
     "metadata": {},
     "output_type": "execute_result"
    }
   ],
   "source": [
    "class CQueue(object):\n",
    "    def __init__(self):\n",
    "        self.stackA = []\n",
    "        self.stackB = []\n",
    "\n",
    "    def appendTail(self, value):\n",
    "        \"\"\"\n",
    "        :type value: int\n",
    "        :rtype: None\n",
    "        \"\"\"\n",
    "        self.stackA.append(value)\n",
    "\n",
    "    def deleteHead(self):\n",
    "        \"\"\"\n",
    "        :rtype: int\n",
    "        \"\"\"\n",
    "        if self.stackB: return self.stackB.pop()\n",
    "        if not self.stackA: return -1\n",
    "\n",
    "        while self.stackA:\n",
    "            self.stackB.append(self.stackA.pop())\n",
    "        return self.stackB.pop()\n",
    "\n",
    "\n",
    "queue = CQueue()\n",
    "queue.appendTail(3)\n",
    "queue.deleteHead()\n",
    "queue.deleteHead()"
   ],
   "metadata": {
    "collapsed": false,
    "pycharm": {
     "name": "#%%\n"
    }
   }
  },
  {
   "cell_type": "markdown",
   "source": [
    "# 剑指 Offer 20. 表示数值的字符串\n",
    "\n",
    "请实现一个函数用来判断字符串是否表示数值（包括整数和小数）。\n",
    "数值（按顺序）可以分成以下几个部分：\n",
    "若干空格\n",
    "一个 小数 或者 整数\n",
    "（可选）一个 'e' 或 'E' ，后面跟着一个 整数\n",
    "若干空格\n",
    "小数（按顺序）可以分成以下几个部分：\n",
    "\n",
    "（可选）一个符号字符（'+' 或 '-'）\n",
    "下述格式之一：\n",
    "至少一位数字，后面跟着一个点 '.'\n",
    "至少一位数字，后面跟着一个点 '.' ，后面再跟着至少一位数字\n",
    "一个点 '.' ，后面跟着至少一位数字\n",
    "整数（按顺序）可以分成以下几个部分：\n",
    "\n",
    "（可选）一个符号字符（'+' 或 '-'）\n",
    "至少一位数字\n",
    "部分数值列举如下：\n",
    "[\"+100\", \"5e2\", \"-123\", \"3.1416\", \"-1E-16\", \"0123\"]\n",
    "部分非数值列举如下：\n",
    "[\"12e\", \"1a3.14\", \"1.2.3\", \"+-5\", \"12e+5.4\"]\n",
    "\n",
    "示例 1：\n",
    "\n",
    "输入：s = \"0\"\n",
    "输出：true\n",
    "示例 2：\n",
    "\n",
    "输入：s = \"e\"\n",
    "输出：false\n",
    "示例 3：\n",
    "\n",
    "输入：s = \".\"\n",
    "输出：false\n",
    "示例 4：\n",
    "\n",
    "输入：s = \"    .1  \"\n",
    "输出：true\n",
    "\n",
    "提示：\n",
    "1 <= s.length <= 20\n",
    "s 仅含英文字母（大写和小写），数字（0-9），加号 '+' ，减号 '-' ，空格 ' ' 或者点 '.' 。"
   ],
   "metadata": {
    "collapsed": false,
    "pycharm": {
     "name": "#%% md\n"
    }
   }
  },
  {
   "cell_type": "code",
   "execution_count": 38,
   "outputs": [
    {
     "name": "stdout",
     "output_type": "stream",
     "text": [
      "True\n",
      "False\n",
      "False\n",
      "True\n"
     ]
    }
   ],
   "source": [
    "class Solution(object):\n",
    "    def isNumber(self, s):\n",
    "        \"\"\"\n",
    "        有限状态自动机，有向图\n",
    "        :type s: str\n",
    "        :rtype: bool\n",
    "        \"\"\"\n",
    "        # 状态转移表\n",
    "        state = [\n",
    "            {' ': 0, 's': 1, 'd': 2, '.': 4},\n",
    "            {'d': 2, '.': 4},\n",
    "            {'d': 2, '.': 3, 'e': 5, ' ': 8},\n",
    "            {'d': 3, 'e': 5, ' ': 8},\n",
    "            {'d': 3},\n",
    "            {'s': 6, 'd': 7},\n",
    "            {'d': 7},\n",
    "            {'d': 7, ' ': 8},\n",
    "            {' ': 8}\n",
    "        ]\n",
    "        p = 0\n",
    "        for c in s:\n",
    "            if '0' <= c <= '9':\n",
    "                t = 'd'\n",
    "            elif c in '+-':\n",
    "                t = 's'\n",
    "            elif c in '. ':\n",
    "                t = c\n",
    "            elif c in 'eE':\n",
    "                t = 'e'\n",
    "            else:\n",
    "                t = '?'\n",
    "            if t not in state[p]: return False\n",
    "            p = state[p][t]\n",
    "        return p in (2, 3, 7, 8)\n",
    "\n",
    "\n",
    "s = Solution()\n",
    "print(s.isNumber('0'))\n",
    "print(s.isNumber('e'))\n",
    "print(s.isNumber('.'))\n",
    "print(s.isNumber('   .1   '))"
   ],
   "metadata": {
    "collapsed": false,
    "pycharm": {
     "name": "#%%\n"
    }
   }
  },
  {
   "cell_type": "markdown",
   "source": [
    "# 剑指 Offer 24. 反转链表\n",
    "定义一个函数，输入一个链表的头节点，反转该链表并输出反转后链表的头节点。\n",
    "\n",
    "示例:\n",
    "输入: 1->2->3->4->5->NULL\n",
    "输出: 5->4->3->2->1->NULL\n",
    "\n",
    "限制：\n",
    "0 <= 节点个数 <= 5000"
   ],
   "metadata": {
    "collapsed": false,
    "pycharm": {
     "name": "#%% md\n"
    }
   }
  },
  {
   "cell_type": "code",
   "execution_count": 39,
   "outputs": [],
   "source": [
    "# Definition for singly-linked list.\n",
    "class ListNode(object):\n",
    "    def __init__(self, x):\n",
    "        self.val = x\n",
    "        self.next = None\n",
    "\n",
    "\n",
    "class Solution(object):\n",
    "    def reverseList(self, head):\n",
    "        \"\"\"\n",
    "        使用双指针\n",
    "        :type head: ListNode\n",
    "        :rtype: ListNode\n",
    "        \"\"\"\n",
    "        cur = head\n",
    "        pre = None\n",
    "        while cur:\n",
    "            temp = cur.next\n",
    "            cur.next = pre\n",
    "\n",
    "            pre = cur\n",
    "            cur = temp\n",
    "        return pre"
   ],
   "metadata": {
    "collapsed": false,
    "pycharm": {
     "name": "#%%\n"
    }
   }
  },
  {
   "cell_type": "code",
   "execution_count": 40,
   "outputs": [],
   "source": [
    "class Solution(object):\n",
    "    def reverseList(self, head):\n",
    "        \"\"\"\n",
    "        使用递归，回溯方法求解\n",
    "        :type head: ListNode\n",
    "        :rtype: ListNode\n",
    "        \"\"\"\n",
    "        cur = head\n",
    "        pre = None\n",
    "\n",
    "        def recur(curr, pre):\n",
    "            if not curr:\n",
    "                return pre\n",
    "            temp = curr.next\n",
    "            curr.next = pre\n",
    "\n",
    "            pre = curr\n",
    "            curr = temp\n",
    "\n",
    "            return recur(curr, pre)\n",
    "\n",
    "        head = recur(cur, pre)\n",
    "        return head"
   ],
   "metadata": {
    "collapsed": false,
    "pycharm": {
     "name": "#%%\n"
    }
   }
  },
  {
   "cell_type": "code",
   "execution_count": 41,
   "outputs": [],
   "source": [
    "class Solution(object):\n",
    "    def reverseList(self, head):\n",
    "        \"\"\"\n",
    "        使用递归，回溯方法求解\n",
    "        :type head: ListNode\n",
    "        :rtype: ListNode\n",
    "        \"\"\"\n",
    "\n",
    "        def recur(curr, pre):\n",
    "            if not curr:\n",
    "                return pre\n",
    "            res = recur(curr.next, curr)\n",
    "            curr.next = pre\n",
    "            return res\n",
    "\n",
    "        return recur(head, None)"
   ],
   "metadata": {
    "collapsed": false,
    "pycharm": {
     "name": "#%%\n"
    }
   }
  },
  {
   "cell_type": "markdown",
   "source": [
    "# 剑指 Offer 30. 包含 min 函数的栈\n",
    "定义栈的数据结构，请在该类型中实现一个能够得到栈的最小元素的 min 函数在该栈中，调用 min、push 及 pop 的时间复杂度都是 O(1)。\n",
    "示例:\n",
    "\n",
    "MinStack minStack = new MinStack();\n",
    "minStack.push(-2);\n",
    "minStack.push(0);\n",
    "minStack.push(-3);\n",
    "minStack.min();   --> 返回 -3.\n",
    "minStack.pop();\n",
    "minStack.top();      --> 返回 0.\n",
    "minStack.min();   --> 返回 -2.\n",
    "\n",
    "提示：\n",
    "各函数的调用总次数不超过 20000 次"
   ],
   "metadata": {
    "collapsed": false,
    "pycharm": {
     "name": "#%% md\n"
    }
   }
  },
  {
   "cell_type": "code",
   "execution_count": 42,
   "outputs": [],
   "source": [
    "class MinStack(object):\n",
    "\n",
    "    def __init__(self):\n",
    "        \"\"\"\n",
    "        initialize your data structure here.\n",
    "        \"\"\"\n",
    "        self.A = []\n",
    "        self.B = []\n",
    "\n",
    "    def push(self, x):\n",
    "        \"\"\"\n",
    "        :type x: int\n",
    "        :rtype: None\n",
    "        \"\"\"\n",
    "        self.A.append(x)\n",
    "        if not self.B or x <= self.B[-1]:\n",
    "            self.B.append(x)\n",
    "\n",
    "    def pop(self):\n",
    "        \"\"\"\n",
    "        :rtype: None\n",
    "        \"\"\"\n",
    "        if self.A.pop() == self.B[-1]:\n",
    "            self.B.pop()\n",
    "\n",
    "    def top(self):\n",
    "        \"\"\"\n",
    "        :rtype: int\n",
    "        \"\"\"\n",
    "        return self.A[-1]\n",
    "\n",
    "    def min(self):\n",
    "        \"\"\"\n",
    "        辅助栈，保存A总非严格降序的子序列\n",
    "        :rtype: int\n",
    "        \"\"\"\n",
    "        return self.B[-1]"
   ],
   "metadata": {
    "collapsed": false,
    "pycharm": {
     "name": "#%%\n"
    }
   }
  },
  {
   "cell_type": "markdown",
   "source": [
    "# 剑指 Offer 35. 复杂链表的复制\n",
    "请实现 copyRandomList 函数，复制一个复杂链表。在复杂链表中，每个节点除了有一个 next 指针指向下一个节点，还有一个 random 指针指向链表中的任意节点或者 null。\n",
    "\n",
    "输入：head = [[7,null],[13,0],[11,4],[10,2],[1,0]]\n",
    "输出：[[7,null],[13,0],[11,4],[10,2],[1,0]]\n",
    "\n",
    "输入：head = [[1,1],[2,1]]\n",
    "输出：[[1,1],[2,1]]\n",
    "\n",
    "输入：head = [[3,null],[3,0],[3,null]]\n",
    "输出：[[3,null],[3,0],[3,null]]\n",
    "\n",
    "输入：head = []\n",
    "输出：[]\n",
    "解释：给定的链表为空（空指针），因此返回 null。"
   ],
   "metadata": {
    "collapsed": false,
    "pycharm": {
     "name": "#%% md\n"
    }
   }
  },
  {
   "cell_type": "code",
   "execution_count": 43,
   "outputs": [],
   "source": [
    "\n",
    "class Node:\n",
    "    def __init__(self, x, next=None, random=None):\n",
    "        self.val = int(x)\n",
    "        self.next = next\n",
    "        self.random = random\n",
    "\n",
    "    def copyRandomList(self, head):\n",
    "        \"\"\"\n",
    "        哈希表方法，这样可以记录random的引用指向\n",
    "        :type head: Node\n",
    "        :rtype: Node\n",
    "        \"\"\"\n",
    "        # 构造hash表,'原节点'->'新节点'\n",
    "        dict1 = dict()\n",
    "        temp = head\n",
    "        while temp:\n",
    "            dict1[temp] = Node(temp.val)\n",
    "            temp = temp.next\n",
    "\n",
    "        curr = head\n",
    "        while curr:\n",
    "            dict1[curr].next = dict1.get(curr.next)\n",
    "            dict1[curr].random = dict1.get(curr.random)\n",
    "        return dict1[head]"
   ],
   "metadata": {
    "collapsed": false,
    "pycharm": {
     "name": "#%%\n"
    }
   }
  },
  {
   "cell_type": "code",
   "execution_count": 44,
   "outputs": [],
   "source": [
    "\n",
    "class Node:\n",
    "    def __init__(self, x, next=None, random=None):\n",
    "        self.val = int(x)\n",
    "        self.next = next\n",
    "        self.random = random\n",
    "\n",
    "    def copyRandomList(self, head):\n",
    "        \"\"\"\n",
    "        拼接+拆分\n",
    "        :type head: Node\n",
    "        :rtype: Node\n",
    "        \"\"\"\n",
    "        if not head: return\n",
    "        # 复制新节点，拼接在旧节点之后\n",
    "        curr = head\n",
    "        while curr:\n",
    "            tmp = Node(curr.val)\n",
    "            tmp.next = curr.next\n",
    "            # 把新节点拼接在旧节点后面\n",
    "            curr.next = tmp\n",
    "            curr = tmp.next\n",
    "\n",
    "        # 构建各个新节点的random指向\n",
    "        cur = head\n",
    "        while cur:\n",
    "            # 原旧节点的random有值，则他的新节点的random就为旧节点random的下一个\n",
    "            # 因为是按照旧新节点排序，而且新节点就是原节点的复制\n",
    "            if cur.random:\n",
    "                cur.next.random = cur.random.next\n",
    "            # 走向下一个旧节点\n",
    "            cur = cur.next.next\n",
    "\n",
    "        # 拆分两个链表\n",
    "        new = res = head.next\n",
    "        old = head\n",
    "        while new.next:\n",
    "            old.next = old.next.next\n",
    "            new.next = new.next.next\n",
    "\n",
    "            old = old.next\n",
    "            new = new.next\n",
    "        old.next = None\n",
    "        return res"
   ],
   "metadata": {
    "collapsed": false,
    "pycharm": {
     "name": "#%%\n"
    }
   }
  },
  {
   "cell_type": "markdown",
   "source": [
    "# 剑指 Offer 58 - II. 左旋转字符串\n",
    "字符串的左旋转操作是把字符串前面的若干个字符转移到字符串的尾部。请定义一个函数实现字符串左旋转操作的功能。比如，输入字符串\"abcdefg\"和数字2，该函数将返回左旋转两位得到的结果\"cdefgab\"。\n",
    "\n",
    "示例 1：\n",
    "输入: s = \"abcdefg\", k = 2\n",
    "输出: \"cdefgab\"\n",
    "\n",
    "示例 2：\n",
    "输入: s = \"lrloseumgh\", k = 6\n",
    "输出: \"umghlrlose\"\n",
    " \n",
    "\n",
    "限制：\n",
    "1 <= k < s.length <= 10000"
   ],
   "metadata": {
    "collapsed": false,
    "pycharm": {
     "name": "#%% md\n"
    }
   }
  },
  {
   "cell_type": "code",
   "execution_count": 46,
   "outputs": [],
   "source": [
    " def reverseLeftWords(s, n):\n",
    "    \"\"\"\n",
    "    字符串切片\n",
    "    :type s: str\n",
    "    :type n: int\n",
    "    :rtype: str\n",
    "    \"\"\"\n",
    "    return s[n:] + s[:n]"
   ],
   "metadata": {
    "collapsed": false,
    "pycharm": {
     "name": "#%%\n"
    }
   }
  },
  {
   "cell_type": "markdown",
   "source": [
    "# 剑指 Offer 59 - I. 滑动窗口的最大值\n",
    "给定一个数组 nums 和滑动窗口的大小 k，请找出所有滑动窗口里的最大值。\n",
    "\n",
    "示例:\n",
    "输入: nums = [1,3,-1,-3,5,3,6,7], 和 k = 3\n",
    "输出: [3,3,5,5,6,7]\n",
    "解释:\n",
    "\n",
    "  滑动窗口的位置                最大值\n",
    "---------------               -----\n",
    "[1  3  -1] -3  5  3  6  7       3\n",
    " 1 [3  -1  -3] 5  3  6  7       3\n",
    " 1  3 [-1  -3  5] 3  6  7       5\n",
    " 1  3  -1 [-3  5  3] 6  7       5\n",
    " 1  3  -1  -3 [5  3  6] 7       6\n",
    " 1  3  -1  -3  5 [3  6  7]      7\n",
    "\n",
    "提示：\n",
    "你可以假设 k 总是有效的，在输入数组不为空的情况下，1 ≤ k ≤ 输入数组的大小。"
   ],
   "metadata": {
    "collapsed": false,
    "pycharm": {
     "name": "#%% md\n"
    }
   }
  },
  {
   "cell_type": "code",
   "execution_count": 50,
   "outputs": [
    {
     "name": "stdout",
     "output_type": "stream",
     "text": [
      "[3, 3, 5, 5, 6, 7]\n"
     ]
    }
   ],
   "source": [
    "import collections\n",
    "\n",
    "\n",
    "def maxSlidingWindow(nums, k):\n",
    "    \"\"\"\n",
    "    :type nums: List[int]\n",
    "    :type k: int\n",
    "    :rtype: List[int]\n",
    "    \"\"\"\n",
    "    # 辅助的双端队列，保存窗口内的非严格递减元素\n",
    "    deque = collections.deque()\n",
    "    res, n = [], len(nums)\n",
    "    for i, j in zip(range(1 - k, n + 1 - k), range(n)):\n",
    "        # 删除原数组左边元素的时候，对应的双端队列元素也得删除\n",
    "        if i > 0 and deque[0] == nums[i - 1]:\n",
    "            deque.popleft()\n",
    "        # 把小于右边的元素都删除，保持递减\n",
    "        while deque and deque[-1] < nums[j]:\n",
    "            deque.pop()\n",
    "        # 增加右边元素\n",
    "        deque.append(nums[j])\n",
    "        # 队列首部元素即为最大值\n",
    "        if i >= 0:\n",
    "            res.append(deque[0])\n",
    "    return res\n",
    "\n",
    "\n",
    "nums = [1, 3, -1, -3, 5, 3, 6, 7]\n",
    "k = 3\n",
    "print(maxSlidingWindow(nums, k))"
   ],
   "metadata": {
    "collapsed": false,
    "pycharm": {
     "name": "#%%\n"
    }
   }
  },
  {
   "cell_type": "markdown",
   "source": [
    "# 剑指 Offer 59 - II. 队列的最大值\n",
    "请定义一个队列并实现函数 max_value 得到队列里的最大值，要求函数max_value、push_back 和 pop_front 的均摊时间复杂度都是O(1)。\n",
    "\n",
    "若队列为空，pop_front 和 max_value 需要返回 -1\n",
    "\n",
    "输入:\n",
    "[\"MaxQueue\",\"push_back\",\"push_back\",\"max_value\",\"pop_front\",\"max_value\"]\n",
    "[[],[1],[2],[],[],[]]\n",
    "输出: [null,null,null,2,1,2]\n",
    "\n",
    "输入:\n",
    "[\"MaxQueue\",\"pop_front\",\"max_value\"]\n",
    "[[],[],[]]\n",
    "输出: [null,-1,-1]\n",
    "\n",
    "限制：\n",
    "1 <= push_back,pop_front,max_value的总操作数 <= 10000\n",
    "1 <= value <= 10^5"
   ],
   "metadata": {
    "collapsed": false,
    "pycharm": {
     "name": "#%% md\n"
    }
   }
  },
  {
   "cell_type": "code",
   "execution_count": 51,
   "outputs": [],
   "source": [
    "class MaxQueue(object):\n",
    "    def __init__(self):\n",
    "        self.deque = collections.deque()\n",
    "        self.queue = collections.deque()  # 递减的列表\n",
    "\n",
    "    def max_value(self):\n",
    "        \"\"\"\n",
    "        :rtype: int\n",
    "        \"\"\"\n",
    "        return self.queue[0] if self.queue else -1\n",
    "\n",
    "    def push_back(self, value):\n",
    "        \"\"\"\n",
    "        :type value: int\n",
    "        :rtype: None\n",
    "        \"\"\"\n",
    "        self.deque.append(value)\n",
    "        while self.queue and self.queue[-1] < value:\n",
    "            self.queue.pop()\n",
    "        self.queue.append(value)\n",
    "\n",
    "    def pop_front(self):\n",
    "        \"\"\"\n",
    "        :rtype: int\n",
    "        \"\"\"\n",
    "        if not self.deque:\n",
    "            return -1\n",
    "        val = self.deque.popleft()\n",
    "        if val == self.queue[0]:\n",
    "            self.queue.popleft()\n",
    "        return val"
   ],
   "metadata": {
    "collapsed": false,
    "pycharm": {
     "name": "#%%\n"
    }
   }
  },
  {
   "cell_type": "markdown",
   "source": [
    "# 剑指 Offer 67. 把字符串转换成整数\n",
    "写一个函数 StrToInt，实现把字符串转换成整数这个功能。不能使用 atoi 或者其他类似的库函数。\n",
    "\n",
    " \n",
    "\n",
    "首先，该函数会根据需要丢弃无用的开头空格字符，直到寻找到第一个非空格的字符为止。\n",
    "\n",
    "当我们寻找到的第一个非空字符为正或者负号时，则将该符号与之后面尽可能多的连续数字组合起来，作为该整数的正负号；假如第一个非空字符是数字，则直接将其与之后连续的数字字符组合起来，形成整数。\n",
    "\n",
    "该字符串除了有效的整数部分之后也可能会存在多余的字符，这些字符可以被忽略，它们对于函数不应该造成影响。\n",
    "\n",
    "注意：假如该字符串中的第一个非空格字符不是一个有效整数字符、字符串为空或字符串仅包含空白字符时，则你的函数不需要进行转换。\n",
    "\n",
    "在任何情况下，若函数不能进行有效的转换时，请返回 0。\n",
    "\n",
    "说明：\n",
    "\n",
    "假设我们的环境只能存储 32 位大小的有符号整数，那么其数值范围为 [−231,  231 − 1]。如果数值超过这个范围，请返回  INT_MAX (231 − 1) 或 INT_MIN (−231) 。\n",
    "\n",
    "输入: \"42\"\n",
    "输出: 42\n",
    "\n",
    "输入: \"   -42\"\n",
    "输出: -42\n",
    "解释: 第一个非空白字符为 '-', 它是一个负号。\n",
    "     我们尽可能将负号与后面所有连续出现的数字组合起来，最后得到 -42 。\n",
    "\n",
    "输入: \"4193 with words\"\n",
    "输出: 4193\n",
    "解释: 转换截止于数字 '3' ，因为它的下一个字符不为数字。\n",
    "\n",
    "输入: \"words and 987\"\n",
    "输出: 0\n",
    "解释: 第一个非空字符是 'w', 但它不是数字或正、负号。\n",
    "     因此无法执行有效的转换。\n",
    "\n",
    "输入: \"-91283472332\"\n",
    "输出: -2147483648\n",
    "解释: 数字 \"-91283472332\" 超过 32 位有符号整数范围。\n",
    "     因此返回 INT_MIN (−231) 。"
   ],
   "metadata": {
    "collapsed": false,
    "pycharm": {
     "name": "#%% md\n"
    }
   }
  },
  {
   "cell_type": "code",
   "execution_count": 52,
   "outputs": [],
   "source": [
    "class Solution(object):\n",
    "    def strToInt(self, str):\n",
    "        \"\"\"\n",
    "        :type str: str\n",
    "        :rtype: int\n",
    "        \"\"\"\n",
    "        res, i, sign, length = 0, 0, 1, len(str)\n",
    "        int_max, int_min, bndry = 2 ** 31 - 1, -2 ** 31, 2 ** 31 // 10\n",
    "        if not str: return 0\n",
    "        while str[i] == ' ':\n",
    "            i += 1\n",
    "            if i == length:\n",
    "                return 0\n",
    "\n",
    "        if str[i] == '-':\n",
    "            sign = -1\n",
    "        if str[i] in '+-':\n",
    "            i += 1\n",
    "        for j in range(i, length):\n",
    "            if not '0' <= str[j] <= '9':\n",
    "                break\n",
    "            if res > bndry or res == bndry and str[j] > '7':\n",
    "                return int_max if sign == 1 else int_min\n",
    "            res = res * 10 + ord(str[j]) - ord('0')\n",
    "        return sign * res"
   ],
   "metadata": {
    "collapsed": false,
    "pycharm": {
     "name": "#%%\n"
    }
   }
  },
  {
   "cell_type": "code",
   "execution_count": null,
   "outputs": [],
   "source": [],
   "metadata": {
    "collapsed": false,
    "pycharm": {
     "name": "#%%\n"
    }
   }
  }
 ],
 "metadata": {
  "kernelspec": {
   "display_name": "Python 3",
   "language": "python",
   "name": "python3"
  },
  "language_info": {
   "codemirror_mode": {
    "name": "ipython",
    "version": 2
   },
   "file_extension": ".py",
   "mimetype": "text/x-python",
   "name": "python",
   "nbconvert_exporter": "python",
   "pygments_lexer": "ipython2",
   "version": "2.7.6"
  }
 },
 "nbformat": 4,
 "nbformat_minor": 0
}