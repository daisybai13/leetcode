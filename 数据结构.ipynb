{
 "cells": [
  {
   "cell_type": "markdown",
   "metadata": {
    "collapsed": true,
    "pycharm": {
     "name": "#%% md\n"
    }
   },
   "source": [
    "# 剑指 Offer 05. 替换空格\n",
    "请实现一个函数，把字符串 s 中的每个空格替换成\"%20\"。\n",
    "\n",
    "示例 1：\n",
    "输入：s = \"We are happy.\"\n",
    "输出：\"We%20are%20happy.\"\n",
    "\n",
    "限制：0 <= s 的长度 <= 10000"
   ]
  },
  {
   "cell_type": "code",
   "execution_count": 23,
   "outputs": [
    {
     "name": "stdout",
     "output_type": "stream",
     "text": [
      "We%20are%20Happy\n"
     ]
    }
   ],
   "source": [
    "# 遍历替换\n",
    "def replace(s):\n",
    "    return ''.join(['%20' if val == ' ' else val for val in s])\n",
    "\n",
    "\n",
    "s = 'We are Happy'\n",
    "print(replace(s))"
   ],
   "metadata": {
    "collapsed": false,
    "pycharm": {
     "name": "#%%\n"
    }
   }
  },
  {
   "cell_type": "code",
   "execution_count": 24,
   "outputs": [
    {
     "name": "stdout",
     "output_type": "stream",
     "text": [
      "We%20are%20Happy\n"
     ]
    }
   ],
   "source": [
    "# 在原来的数组中进行扩充\n",
    "def replace(s):\n",
    "    res = list()\n",
    "    count = 0\n",
    "    for c in s:\n",
    "        res.append(c)\n",
    "        if c == ' ':\n",
    "            count += 1\n",
    "    # 在原来的基础上需要增加2*count个新的空字符串\n",
    "    s_exp = res + [\" \"] * 2 * count\n",
    "    i, j = len(res) - 1, len(s_exp) - 1\n",
    "    while i < j:\n",
    "        if s_exp[i] != ' ':\n",
    "            s_exp[j] = s_exp[i]\n",
    "            i -= 1\n",
    "            j -= 1\n",
    "        else:\n",
    "            s_exp[j - 2:j + 1] = '%20'\n",
    "            i -= 1\n",
    "            j -= 3\n",
    "    return ''.join(s_exp)\n",
    "\n",
    "\n",
    "print(replace(s))"
   ],
   "metadata": {
    "collapsed": false,
    "pycharm": {
     "name": "#%%\n"
    }
   }
  },
  {
   "cell_type": "markdown",
   "source": [
    "# 剑指 Offer 06. 从尾到头打印链表\n",
    "输入一个链表的头节点，从尾到头反过来返回每个节点的值（用数组返回）。\n",
    "\n",
    "示例 1：\n",
    "输入：head = [1,3,2]\n",
    "输出：[2,3,1]\n",
    "\n",
    "限制：\n",
    "0 <= 链表长度 <= 10000"
   ],
   "metadata": {
    "collapsed": false,
    "pycharm": {
     "name": "#%% md\n"
    }
   }
  },
  {
   "cell_type": "code",
   "execution_count": 31,
   "outputs": [
    {
     "name": "stdout",
     "output_type": "stream",
     "text": [
      "[2, 3, 1]\n"
     ]
    }
   ],
   "source": [
    "class ListNode(object):\n",
    "    def __init__(self, x):\n",
    "        self.val = x\n",
    "        self.next = None\n",
    "\n",
    "    def reversePrint(self, head):\n",
    "        \"\"\"\n",
    "        借助栈来实现逆序\n",
    "        :param head:\n",
    "        :return:\n",
    "        \"\"\"\n",
    "        stack = []\n",
    "        while head:\n",
    "            stack.append(head.val)\n",
    "            head = head.next\n",
    "        return stack[::-1]\n",
    "\n",
    "\n",
    "head = ListNode(1)\n",
    "n1 = ListNode(2)\n",
    "n2 = ListNode(3)\n",
    "\n",
    "head.next = n2\n",
    "n2.next = n1\n",
    "print(head.reversePrint(head))"
   ],
   "metadata": {
    "collapsed": false,
    "pycharm": {
     "name": "#%%\n"
    }
   }
  },
  {
   "cell_type": "code",
   "execution_count": 32,
   "outputs": [
    {
     "name": "stdout",
     "output_type": "stream",
     "text": [
      "[2, 3, 1]\n"
     ]
    }
   ],
   "source": [
    "class ListNode(object):\n",
    "    def __init__(self, x):\n",
    "        self.val = x\n",
    "        self.next = None\n",
    "\n",
    "    def reversePrint(self, head):\n",
    "        \"\"\"\n",
    "        利用递归/回溯的方法\n",
    "        :return:\n",
    "        \"\"\"\n",
    "        return self.reversePrint(head.next) + [head.val] if head else []\n",
    "\n",
    "\n",
    "head = ListNode(1)\n",
    "n1 = ListNode(2)\n",
    "n2 = ListNode(3)\n",
    "\n",
    "head.next = n2\n",
    "n2.next = n1\n",
    "print(head.reversePrint(head))"
   ],
   "metadata": {
    "collapsed": false,
    "pycharm": {
     "name": "#%%\n"
    }
   }
  },
  {
   "cell_type": "markdown",
   "source": [
    " # 剑指 Offer 09. 用两个栈实现队列\n",
    "\n",
    "用两个栈实现一个队列。队列的声明如下，请实现它的两个函数 appendTail 和 deleteHead ，分别完成在队列尾部插入整数和在队列头部删除整数的功能。(若队列中没有元素，deleteHead 操作返回 -1 )\n",
    "\n",
    "示例 1：\n",
    "输入：\n",
    "[\"CQueue\",\"appendTail\",\"deleteHead\",\"deleteHead\"]\n",
    "[[],[3],[],[]]\n",
    "输出：[null,null,3,-1]\n",
    "\n",
    "示例 2：\n",
    "输入：\n",
    "[\"CQueue\",\"deleteHead\",\"appendTail\",\"appendTail\",\"deleteHead\",\"deleteHead\"]\n",
    "[[],[],[5],[2],[],[]]\n",
    "输出：[null,-1,null,null,5,2]"
   ],
   "metadata": {
    "collapsed": false,
    "pycharm": {
     "name": "#%% md\n"
    }
   }
  },
  {
   "cell_type": "code",
   "execution_count": 34,
   "outputs": [
    {
     "data": {
      "text/plain": "-1"
     },
     "execution_count": 34,
     "metadata": {},
     "output_type": "execute_result"
    }
   ],
   "source": [
    "class CQueue(object):\n",
    "    def __init__(self):\n",
    "        self.stackA = []\n",
    "        self.stackB = []\n",
    "\n",
    "    def appendTail(self, value):\n",
    "        \"\"\"\n",
    "        :type value: int\n",
    "        :rtype: None\n",
    "        \"\"\"\n",
    "        self.stackA.append(value)\n",
    "\n",
    "    def deleteHead(self):\n",
    "        \"\"\"\n",
    "        :rtype: int\n",
    "        \"\"\"\n",
    "        if self.stackB: return self.stackB.pop()\n",
    "        if not self.stackA: return -1\n",
    "\n",
    "        while self.stackA:\n",
    "            self.stackB.append(self.stackA.pop())\n",
    "        return self.stackB.pop()\n",
    "\n",
    "\n",
    "queue = CQueue()\n",
    "queue.appendTail(3)\n",
    "queue.deleteHead()\n",
    "queue.deleteHead()"
   ],
   "metadata": {
    "collapsed": false,
    "pycharm": {
     "name": "#%%\n"
    }
   }
  },
  {
   "cell_type": "markdown",
   "source": [
    "# 剑指 Offer 20. 表示数值的字符串\n",
    "\n",
    "请实现一个函数用来判断字符串是否表示数值（包括整数和小数）。\n",
    "数值（按顺序）可以分成以下几个部分：\n",
    "若干空格\n",
    "一个 小数 或者 整数\n",
    "（可选）一个 'e' 或 'E' ，后面跟着一个 整数\n",
    "若干空格\n",
    "小数（按顺序）可以分成以下几个部分：\n",
    "\n",
    "（可选）一个符号字符（'+' 或 '-'）\n",
    "下述格式之一：\n",
    "至少一位数字，后面跟着一个点 '.'\n",
    "至少一位数字，后面跟着一个点 '.' ，后面再跟着至少一位数字\n",
    "一个点 '.' ，后面跟着至少一位数字\n",
    "整数（按顺序）可以分成以下几个部分：\n",
    "\n",
    "（可选）一个符号字符（'+' 或 '-'）\n",
    "至少一位数字\n",
    "部分数值列举如下：\n",
    "[\"+100\", \"5e2\", \"-123\", \"3.1416\", \"-1E-16\", \"0123\"]\n",
    "部分非数值列举如下：\n",
    "[\"12e\", \"1a3.14\", \"1.2.3\", \"+-5\", \"12e+5.4\"]\n",
    "\n",
    "示例 1：\n",
    "\n",
    "输入：s = \"0\"\n",
    "输出：true\n",
    "示例 2：\n",
    "\n",
    "输入：s = \"e\"\n",
    "输出：false\n",
    "示例 3：\n",
    "\n",
    "输入：s = \".\"\n",
    "输出：false\n",
    "示例 4：\n",
    "\n",
    "输入：s = \"    .1  \"\n",
    "输出：true\n",
    "\n",
    "提示：\n",
    "1 <= s.length <= 20\n",
    "s 仅含英文字母（大写和小写），数字（0-9），加号 '+' ，减号 '-' ，空格 ' ' 或者点 '.' 。"
   ],
   "metadata": {
    "collapsed": false,
    "pycharm": {
     "name": "#%% md\n"
    }
   }
  },
  {
   "cell_type": "code",
   "execution_count": 38,
   "outputs": [
    {
     "name": "stdout",
     "output_type": "stream",
     "text": [
      "True\n",
      "False\n",
      "False\n",
      "True\n"
     ]
    }
   ],
   "source": [
    "class Solution(object):\n",
    "    def isNumber(self, s):\n",
    "        \"\"\"\n",
    "        有限状态自动机，有向图\n",
    "        :type s: str\n",
    "        :rtype: bool\n",
    "        \"\"\"\n",
    "        # 状态转移表\n",
    "        state = [\n",
    "            {' ': 0, 's': 1, 'd': 2, '.': 4},\n",
    "            {'d': 2, '.': 4},\n",
    "            {'d': 2, '.': 3, 'e': 5, ' ': 8},\n",
    "            {'d': 3, 'e': 5, ' ': 8},\n",
    "            {'d': 3},\n",
    "            {'s': 6, 'd': 7},\n",
    "            {'d': 7},\n",
    "            {'d': 7, ' ': 8},\n",
    "            {' ': 8}\n",
    "        ]\n",
    "        p = 0\n",
    "        for c in s:\n",
    "            if '0' <= c <= '9':\n",
    "                t = 'd'\n",
    "            elif c in '+-':\n",
    "                t = 's'\n",
    "            elif c in '. ':\n",
    "                t = c\n",
    "            elif c in 'eE':\n",
    "                t = 'e'\n",
    "            else:\n",
    "                t = '?'\n",
    "            if t not in state[p]: return False\n",
    "            p = state[p][t]\n",
    "        return p in (2, 3, 7, 8)\n",
    "\n",
    "\n",
    "s = Solution()\n",
    "print(s.isNumber('0'))\n",
    "print(s.isNumber('e'))\n",
    "print(s.isNumber('.'))\n",
    "print(s.isNumber('   .1   '))"
   ],
   "metadata": {
    "collapsed": false,
    "pycharm": {
     "name": "#%%\n"
    }
   }
  },
  {
   "cell_type": "code",
   "execution_count": null,
   "outputs": [],
   "source": [],
   "metadata": {
    "collapsed": false,
    "pycharm": {
     "name": "#%%\n"
    }
   }
  }
 ],
 "metadata": {
  "kernelspec": {
   "display_name": "Python 3",
   "language": "python",
   "name": "python3"
  },
  "language_info": {
   "codemirror_mode": {
    "name": "ipython",
    "version": 2
   },
   "file_extension": ".py",
   "mimetype": "text/x-python",
   "name": "python",
   "nbconvert_exporter": "python",
   "pygments_lexer": "ipython2",
   "version": "2.7.6"
  }
 },
 "nbformat": 4,
 "nbformat_minor": 0
}